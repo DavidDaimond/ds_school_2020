{
  "nbformat": 4,
  "nbformat_minor": 0,
  "metadata": {
    "colab": {
      "name": "Untitled4.ipynb",
      "provenance": [],
      "collapsed_sections": [],
      "authorship_tag": "ABX9TyOzKZ41kmxDOSO5OibYuFc3",
      "include_colab_link": true
    },
    "kernelspec": {
      "name": "python3",
      "display_name": "Python 3"
    }
  },
  "cells": [
    {
      "cell_type": "markdown",
      "metadata": {
        "id": "view-in-github",
        "colab_type": "text"
      },
      "source": [
        "<a href=\"https://colab.research.google.com/github/maslovalyudmila/ds_school_2020/blob/master/Untitled4.ipynb\" target=\"_parent\"><img src=\"https://colab.research.google.com/assets/colab-badge.svg\" alt=\"Open In Colab\"/></a>"
      ]
    },
    {
      "cell_type": "code",
      "metadata": {
        "id": "r2GOCTIY7I7j",
        "colab_type": "code",
        "colab": {}
      },
      "source": [
        "# import libraries\n",
        "\n",
        "import numpy as np\n",
        "import pandas as pd\n",
        "pd.options.mode.chained_assignment = None  # default='warn'\n",
        "\n",
        "import matplotlib.pyplot as plt\n",
        "% matplotlib inline\n",
        "\n",
        "# trees\n",
        "\n",
        "from sklearn.model_selection import train_test_split\n",
        "from sklearn.tree import DecisionTreeClassifier\n",
        "from sklearn import tree\n",
        "from sklearn.tree import export_graphviz \n",
        "\n",
        "from sklearn.preprocessing import LabelEncoder\n",
        "from sklearn.preprocessing import OneHotEncoder\n",
        "from sklearn.compose import ColumnTransformer\n",
        "\n",
        "# import regression module\n",
        "\n",
        "from sklearn.linear_model import LogisticRegression\n",
        "from sklearn.linear_model import LinearRegression\n",
        "\n",
        "# kNN\n",
        "\n",
        "from sklearn.neighbors import KNeighborsClassifier \n",
        "\n",
        "# rf\n",
        "\n",
        "from sklearn.ensemble import RandomForestClassifier\n",
        "\n",
        "# gb\n",
        "\n",
        "from sklearn.ensemble import GradientBoostingClassifier\n",
        "\n",
        "# подключаем метрики\n",
        "\n",
        "from sklearn.metrics import classification_report\n",
        "from sklearn.metrics import confusion_matrix\n",
        "from sklearn.metrics import accuracy_score\n",
        "from sklearn.metrics import mean_squared_error\n",
        "from sklearn.metrics import r2_score"
      ],
      "execution_count": 0,
      "outputs": []
    },
    {
      "cell_type": "code",
      "metadata": {
        "id": "vT3TsRBJ9_1p",
        "colab_type": "code",
        "colab": {}
      },
      "source": [
        "# import our data\n",
        "\n",
        "df = pd.read_csv('/content/houses_to_rent_v2.csv')"
      ],
      "execution_count": 0,
      "outputs": []
    },
    {
      "cell_type": "code",
      "metadata": {
        "id": "6trR8JzmCZOo",
        "colab_type": "code",
        "colab": {}
      },
      "source": [
        "# create a binary column with target variable 'best demand'\n",
        "\n",
        "df['best demand'] = df['total (R$)']\n",
        "df_1 = df['best demand']\n",
        "df_1.loc[df_1 <= 3580] = 1\n",
        "df_1.loc[df_1 > 3580] = 0"
      ],
      "execution_count": 0,
      "outputs": []
    },
    {
      "cell_type": "code",
      "metadata": {
        "id": "_HUDgisQDZ2_",
        "colab_type": "code",
        "colab": {}
      },
      "source": [
        "# make categorical features as quantitive\n",
        "\n",
        "df['animal'] = df['animal'].factorize()[0]\n",
        "df['furniture'] = df['furniture'].factorize()[0]\n",
        "\n",
        "labelencoder = LabelEncoder()\n",
        "df.city = labelencoder.fit_transform(df.city)\n",
        "df.floor = labelencoder.fit_transform(df.floor)"
      ],
      "execution_count": 0,
      "outputs": []
    },
    {
      "cell_type": "code",
      "metadata": {
        "id": "PddhaaCyM6yy",
        "colab_type": "code",
        "colab": {}
      },
      "source": [
        "# delete hierarchy\n",
        "\n",
        "transformer = ColumnTransformer(transformers=[('city', OneHotEncoder(), [0,4])])\n",
        "transformer = ColumnTransformer(transformers=[('floor', OneHotEncoder(), [0,34])])"
      ],
      "execution_count": 0,
      "outputs": []
    },
    {
      "cell_type": "code",
      "metadata": {
        "id": "-VSEsjNJ-2V0",
        "colab_type": "code",
        "outputId": "b94ed9b9-d654-40a9-8159-19f2e254a2a0",
        "colab": {
          "base_uri": "https://localhost:8080/",
          "height": 197
        }
      },
      "source": [
        "# read first 5 rows of data\n",
        "\n",
        "df.head()"
      ],
      "execution_count": 0,
      "outputs": [
        {
          "output_type": "execute_result",
          "data": {
            "text/html": [
              "<div>\n",
              "<style scoped>\n",
              "    .dataframe tbody tr th:only-of-type {\n",
              "        vertical-align: middle;\n",
              "    }\n",
              "\n",
              "    .dataframe tbody tr th {\n",
              "        vertical-align: top;\n",
              "    }\n",
              "\n",
              "    .dataframe thead th {\n",
              "        text-align: right;\n",
              "    }\n",
              "</style>\n",
              "<table border=\"1\" class=\"dataframe\">\n",
              "  <thead>\n",
              "    <tr style=\"text-align: right;\">\n",
              "      <th></th>\n",
              "      <th>city</th>\n",
              "      <th>area</th>\n",
              "      <th>rooms</th>\n",
              "      <th>bathroom</th>\n",
              "      <th>parking spaces</th>\n",
              "      <th>floor</th>\n",
              "      <th>animal</th>\n",
              "      <th>furniture</th>\n",
              "      <th>hoa (R$)</th>\n",
              "      <th>rent amount (R$)</th>\n",
              "      <th>property tax (R$)</th>\n",
              "      <th>fire insurance (R$)</th>\n",
              "      <th>total (R$)</th>\n",
              "      <th>best demand</th>\n",
              "    </tr>\n",
              "  </thead>\n",
              "  <tbody>\n",
              "    <tr>\n",
              "      <th>0</th>\n",
              "      <td>4</td>\n",
              "      <td>70</td>\n",
              "      <td>2</td>\n",
              "      <td>1</td>\n",
              "      <td>1</td>\n",
              "      <td>32</td>\n",
              "      <td>0</td>\n",
              "      <td>0</td>\n",
              "      <td>2065</td>\n",
              "      <td>3300</td>\n",
              "      <td>211</td>\n",
              "      <td>42</td>\n",
              "      <td>5618</td>\n",
              "      <td>0</td>\n",
              "    </tr>\n",
              "    <tr>\n",
              "      <th>1</th>\n",
              "      <td>4</td>\n",
              "      <td>320</td>\n",
              "      <td>4</td>\n",
              "      <td>4</td>\n",
              "      <td>0</td>\n",
              "      <td>13</td>\n",
              "      <td>0</td>\n",
              "      <td>1</td>\n",
              "      <td>1200</td>\n",
              "      <td>4960</td>\n",
              "      <td>1750</td>\n",
              "      <td>63</td>\n",
              "      <td>7973</td>\n",
              "      <td>0</td>\n",
              "    </tr>\n",
              "    <tr>\n",
              "      <th>2</th>\n",
              "      <td>2</td>\n",
              "      <td>80</td>\n",
              "      <td>1</td>\n",
              "      <td>1</td>\n",
              "      <td>1</td>\n",
              "      <td>31</td>\n",
              "      <td>0</td>\n",
              "      <td>1</td>\n",
              "      <td>1000</td>\n",
              "      <td>2800</td>\n",
              "      <td>0</td>\n",
              "      <td>41</td>\n",
              "      <td>3841</td>\n",
              "      <td>0</td>\n",
              "    </tr>\n",
              "    <tr>\n",
              "      <th>3</th>\n",
              "      <td>2</td>\n",
              "      <td>51</td>\n",
              "      <td>2</td>\n",
              "      <td>1</td>\n",
              "      <td>0</td>\n",
              "      <td>12</td>\n",
              "      <td>0</td>\n",
              "      <td>1</td>\n",
              "      <td>270</td>\n",
              "      <td>1112</td>\n",
              "      <td>22</td>\n",
              "      <td>17</td>\n",
              "      <td>1421</td>\n",
              "      <td>1</td>\n",
              "    </tr>\n",
              "    <tr>\n",
              "      <th>4</th>\n",
              "      <td>4</td>\n",
              "      <td>25</td>\n",
              "      <td>1</td>\n",
              "      <td>1</td>\n",
              "      <td>0</td>\n",
              "      <td>1</td>\n",
              "      <td>1</td>\n",
              "      <td>1</td>\n",
              "      <td>0</td>\n",
              "      <td>800</td>\n",
              "      <td>25</td>\n",
              "      <td>11</td>\n",
              "      <td>836</td>\n",
              "      <td>1</td>\n",
              "    </tr>\n",
              "  </tbody>\n",
              "</table>\n",
              "</div>"
            ],
            "text/plain": [
              "   city  area  rooms  ...  fire insurance (R$)  total (R$)  best demand\n",
              "0     4    70      2  ...                   42        5618            0\n",
              "1     4   320      4  ...                   63        7973            0\n",
              "2     2    80      1  ...                   41        3841            0\n",
              "3     2    51      2  ...                   17        1421            1\n",
              "4     4    25      1  ...                   11         836            1\n",
              "\n",
              "[5 rows x 14 columns]"
            ]
          },
          "metadata": {
            "tags": []
          },
          "execution_count": 108
        }
      ]
    },
    {
      "cell_type": "code",
      "metadata": {
        "id": "d9PzfWvxSEqj",
        "colab_type": "code",
        "colab": {}
      },
      "source": [
        "# prepare sets for two task types\n",
        "\n",
        "df_class = df.drop(['total (R$)'], axis=1)\n",
        "df_class = df_class.drop(['best demand'], axis=1)\n",
        "df_reg = df.drop(['best demand'], axis=1)\n",
        "df_reg.values.reshape(-1,1)\n",
        "\n",
        "X_array_class = np.array(df_class)\n",
        "y_array_class = np.array(df['best demand'])\n",
        "\n",
        "X_array_reg = np.array(df_reg)\n",
        "y_array_reg = np.array(df['total (R$)'])"
      ],
      "execution_count": 0,
      "outputs": []
    },
    {
      "cell_type": "code",
      "metadata": {
        "id": "DqHb6QEHFJLJ",
        "colab_type": "code",
        "colab": {
          "base_uri": "https://localhost:8080/",
          "height": 221
        },
        "outputId": "dbca5078-9c0c-456d-b0ec-9bc6999a3b9a"
      },
      "source": [
        "df.head()"
      ],
      "execution_count": 585,
      "outputs": [
        {
          "output_type": "execute_result",
          "data": {
            "text/html": [
              "<div>\n",
              "<style scoped>\n",
              "    .dataframe tbody tr th:only-of-type {\n",
              "        vertical-align: middle;\n",
              "    }\n",
              "\n",
              "    .dataframe tbody tr th {\n",
              "        vertical-align: top;\n",
              "    }\n",
              "\n",
              "    .dataframe thead th {\n",
              "        text-align: right;\n",
              "    }\n",
              "</style>\n",
              "<table border=\"1\" class=\"dataframe\">\n",
              "  <thead>\n",
              "    <tr style=\"text-align: right;\">\n",
              "      <th></th>\n",
              "      <th>city</th>\n",
              "      <th>area</th>\n",
              "      <th>rooms</th>\n",
              "      <th>bathroom</th>\n",
              "      <th>parking spaces</th>\n",
              "      <th>floor</th>\n",
              "      <th>animal</th>\n",
              "      <th>furniture</th>\n",
              "      <th>hoa (R$)</th>\n",
              "      <th>rent amount (R$)</th>\n",
              "      <th>property tax (R$)</th>\n",
              "      <th>fire insurance (R$)</th>\n",
              "      <th>total (R$)</th>\n",
              "      <th>best demand</th>\n",
              "    </tr>\n",
              "  </thead>\n",
              "  <tbody>\n",
              "    <tr>\n",
              "      <th>0</th>\n",
              "      <td>4</td>\n",
              "      <td>70</td>\n",
              "      <td>2</td>\n",
              "      <td>1</td>\n",
              "      <td>1</td>\n",
              "      <td>32</td>\n",
              "      <td>0</td>\n",
              "      <td>0</td>\n",
              "      <td>2065</td>\n",
              "      <td>3300</td>\n",
              "      <td>211</td>\n",
              "      <td>42</td>\n",
              "      <td>5618</td>\n",
              "      <td>0</td>\n",
              "    </tr>\n",
              "    <tr>\n",
              "      <th>1</th>\n",
              "      <td>4</td>\n",
              "      <td>320</td>\n",
              "      <td>4</td>\n",
              "      <td>4</td>\n",
              "      <td>0</td>\n",
              "      <td>13</td>\n",
              "      <td>0</td>\n",
              "      <td>1</td>\n",
              "      <td>1200</td>\n",
              "      <td>4960</td>\n",
              "      <td>1750</td>\n",
              "      <td>63</td>\n",
              "      <td>7973</td>\n",
              "      <td>0</td>\n",
              "    </tr>\n",
              "    <tr>\n",
              "      <th>2</th>\n",
              "      <td>2</td>\n",
              "      <td>80</td>\n",
              "      <td>1</td>\n",
              "      <td>1</td>\n",
              "      <td>1</td>\n",
              "      <td>31</td>\n",
              "      <td>0</td>\n",
              "      <td>1</td>\n",
              "      <td>1000</td>\n",
              "      <td>2800</td>\n",
              "      <td>0</td>\n",
              "      <td>41</td>\n",
              "      <td>3841</td>\n",
              "      <td>0</td>\n",
              "    </tr>\n",
              "    <tr>\n",
              "      <th>3</th>\n",
              "      <td>2</td>\n",
              "      <td>51</td>\n",
              "      <td>2</td>\n",
              "      <td>1</td>\n",
              "      <td>0</td>\n",
              "      <td>12</td>\n",
              "      <td>0</td>\n",
              "      <td>1</td>\n",
              "      <td>270</td>\n",
              "      <td>1112</td>\n",
              "      <td>22</td>\n",
              "      <td>17</td>\n",
              "      <td>1421</td>\n",
              "      <td>1</td>\n",
              "    </tr>\n",
              "    <tr>\n",
              "      <th>4</th>\n",
              "      <td>4</td>\n",
              "      <td>25</td>\n",
              "      <td>1</td>\n",
              "      <td>1</td>\n",
              "      <td>0</td>\n",
              "      <td>1</td>\n",
              "      <td>1</td>\n",
              "      <td>1</td>\n",
              "      <td>0</td>\n",
              "      <td>800</td>\n",
              "      <td>25</td>\n",
              "      <td>11</td>\n",
              "      <td>836</td>\n",
              "      <td>1</td>\n",
              "    </tr>\n",
              "  </tbody>\n",
              "</table>\n",
              "</div>"
            ],
            "text/plain": [
              "   city  area  rooms  ...  fire insurance (R$)  total (R$)  best demand\n",
              "0     4    70      2  ...                   42        5618            0\n",
              "1     4   320      4  ...                   63        7973            0\n",
              "2     2    80      1  ...                   41        3841            0\n",
              "3     2    51      2  ...                   17        1421            1\n",
              "4     4    25      1  ...                   11         836            1\n",
              "\n",
              "[5 rows x 14 columns]"
            ]
          },
          "metadata": {
            "tags": []
          },
          "execution_count": 585
        }
      ]
    },
    {
      "cell_type": "code",
      "metadata": {
        "id": "t-3TDpMQnOJA",
        "colab_type": "code",
        "outputId": "43d0ebbd-4a8a-45b8-c24b-a2a5c6a7ceb3",
        "colab": {
          "base_uri": "https://localhost:8080/",
          "height": 136
        }
      },
      "source": [
        "X_array_class"
      ],
      "execution_count": 586,
      "outputs": [
        {
          "output_type": "execute_result",
          "data": {
            "text/plain": [
              "array([[    4,    70,     2, ...,  3300,   211,    42],\n",
              "       [    4,   320,     4, ...,  4960,  1750,    63],\n",
              "       [    2,    80,     1, ...,  2800,     0,    41],\n",
              "       ...,\n",
              "       [    3,    70,     3, ...,  6000,   332,    78],\n",
              "       [    3,   120,     2, ..., 12000,   279,   155],\n",
              "       [    4,    80,     2, ...,  1400,   165,    22]])"
            ]
          },
          "metadata": {
            "tags": []
          },
          "execution_count": 586
        }
      ]
    },
    {
      "cell_type": "code",
      "metadata": {
        "id": "xEKmiJJ_nS5v",
        "colab_type": "code",
        "outputId": "fefa0f91-8134-41f4-c95e-71234b3f84e5",
        "colab": {
          "base_uri": "https://localhost:8080/",
          "height": 34
        }
      },
      "source": [
        "y_array_class"
      ],
      "execution_count": 587,
      "outputs": [
        {
          "output_type": "execute_result",
          "data": {
            "text/plain": [
              "array([0, 0, 0, ..., 0, 0, 1])"
            ]
          },
          "metadata": {
            "tags": []
          },
          "execution_count": 587
        }
      ]
    },
    {
      "cell_type": "code",
      "metadata": {
        "id": "-FEVCyJCnaYP",
        "colab_type": "code",
        "outputId": "0c3ef7b3-cad5-490f-f840-88259225660c",
        "colab": {
          "base_uri": "https://localhost:8080/",
          "height": 136
        }
      },
      "source": [
        "X_array_reg"
      ],
      "execution_count": 588,
      "outputs": [
        {
          "output_type": "execute_result",
          "data": {
            "text/plain": [
              "array([[    4,    70,     2, ...,   211,    42,  5618],\n",
              "       [    4,   320,     4, ...,  1750,    63,  7973],\n",
              "       [    2,    80,     1, ...,     0,    41,  3841],\n",
              "       ...,\n",
              "       [    3,    70,     3, ...,   332,    78,  7390],\n",
              "       [    3,   120,     2, ...,   279,   155, 14020],\n",
              "       [    4,    80,     2, ...,   165,    22,  1587]])"
            ]
          },
          "metadata": {
            "tags": []
          },
          "execution_count": 588
        }
      ]
    },
    {
      "cell_type": "code",
      "metadata": {
        "id": "p66pBTDrngAw",
        "colab_type": "code",
        "outputId": "76a85ea9-8bff-4d91-99d0-31c293da8fa0",
        "colab": {
          "base_uri": "https://localhost:8080/",
          "height": 34
        }
      },
      "source": [
        "y_array_reg"
      ],
      "execution_count": 589,
      "outputs": [
        {
          "output_type": "execute_result",
          "data": {
            "text/plain": [
              "array([ 5618,  7973,  3841, ...,  7390, 14020,  1587])"
            ]
          },
          "metadata": {
            "tags": []
          },
          "execution_count": 589
        }
      ]
    },
    {
      "cell_type": "code",
      "metadata": {
        "id": "Jp5kTJ3OeFb0",
        "colab_type": "code",
        "colab": {}
      },
      "source": [
        "# define samples\n",
        "\n",
        "X_class_train, X_class_test, y_class_train, y_class_test = train_test_split (X_array_class, y_array_class, test_size =0.33, random_state=42)"
      ],
      "execution_count": 0,
      "outputs": []
    },
    {
      "cell_type": "code",
      "metadata": {
        "id": "5y-Mh6ALe6sS",
        "colab_type": "code",
        "colab": {}
      },
      "source": [
        "# create Decision Tree\n",
        "\n",
        "dts = DecisionTreeClassifier()"
      ],
      "execution_count": 0,
      "outputs": []
    },
    {
      "cell_type": "code",
      "metadata": {
        "id": "WMRhjpeLDSgC",
        "colab_type": "code",
        "outputId": "d82264dd-2730-4c6d-b87f-24ef2a9ab1c8",
        "colab": {
          "base_uri": "https://localhost:8080/",
          "height": 119
        }
      },
      "source": [
        "# train\n",
        "\n",
        "dts.fit(X_class_train, y_class_train)"
      ],
      "execution_count": 592,
      "outputs": [
        {
          "output_type": "execute_result",
          "data": {
            "text/plain": [
              "DecisionTreeClassifier(ccp_alpha=0.0, class_weight=None, criterion='gini',\n",
              "                       max_depth=None, max_features=None, max_leaf_nodes=None,\n",
              "                       min_impurity_decrease=0.0, min_impurity_split=None,\n",
              "                       min_samples_leaf=1, min_samples_split=2,\n",
              "                       min_weight_fraction_leaf=0.0, presort='deprecated',\n",
              "                       random_state=None, splitter='best')"
            ]
          },
          "metadata": {
            "tags": []
          },
          "execution_count": 592
        }
      ]
    },
    {
      "cell_type": "code",
      "metadata": {
        "id": "VLKQ1wPSvvxc",
        "colab_type": "code",
        "colab": {}
      },
      "source": [
        "dts_predictions=dts.predict(X_array_class)"
      ],
      "execution_count": 0,
      "outputs": []
    },
    {
      "cell_type": "code",
      "metadata": {
        "id": "TcApB5AhgRV3",
        "colab_type": "code",
        "outputId": "cc3c3a3c-38a0-48f4-a352-4e9435d161c0",
        "colab": {
          "base_uri": "https://localhost:8080/",
          "height": 34
        }
      },
      "source": [
        "# test the tree\n",
        "\n",
        "accuracy_score(y_array_class, dts_predictions) # 0.99 accuracy"
      ],
      "execution_count": 594,
      "outputs": [
        {
          "output_type": "execute_result",
          "data": {
            "text/plain": [
              "0.9963524130190797"
            ]
          },
          "metadata": {
            "tags": []
          },
          "execution_count": 594
        }
      ]
    },
    {
      "cell_type": "code",
      "metadata": {
        "id": "_X6hVSadIOqr",
        "colab_type": "code",
        "outputId": "207035fe-e5b5-45c5-caca-4be6fc8bfc26",
        "colab": {
          "base_uri": "https://localhost:8080/",
          "height": 1000
        }
      },
      "source": [
        "tree.plot_tree(dts)"
      ],
      "execution_count": 491,
      "outputs": [
        {
          "output_type": "execute_result",
          "data": {
            "text/plain": [
              "[Text(198.18177631578948, 207.55636363636364, 'X[9] <= 2715.0\\ngini = 0.5\\nsamples = 7163\\nvalue = [3610, 3553]'),\n",
              " Text(107.81881578947369, 187.7890909090909, 'X[8] <= 1026.5\\ngini = 0.142\\nsamples = 3632\\nvalue = [280, 3352]'),\n",
              " Text(67.18026315789474, 168.0218181818182, 'X[8] <= 916.5\\ngini = 0.03\\nsamples = 3265\\nvalue = [50, 3215]'),\n",
              " Text(49.77947368421053, 148.25454545454545, 'X[10] <= 1170.0\\ngini = 0.016\\nsamples = 3174\\nvalue = [25, 3149]'),\n",
              " Text(36.12315789473684, 128.48727272727274, 'X[9] <= 2645.0\\ngini = 0.011\\nsamples = 3166\\nvalue = [18, 3148]'),\n",
              " Text(19.383157894736843, 108.72, 'X[8] <= 819.5\\ngini = 0.004\\nsamples = 3099\\nvalue = [6, 3093]'),\n",
              " Text(7.048421052631579, 88.95272727272729, 'X[3] <= 2.5\\ngini = 0.001\\nsamples = 2966\\nvalue = [1, 2965]'),\n",
              " Text(3.5242105263157897, 69.18545454545455, 'gini = 0.0\\nsamples = 2871\\nvalue = [0, 2871]'),\n",
              " Text(10.57263157894737, 69.18545454545455, 'X[8] <= 742.5\\ngini = 0.021\\nsamples = 95\\nvalue = [1, 94]'),\n",
              " Text(7.048421052631579, 49.418181818181836, 'gini = 0.0\\nsamples = 86\\nvalue = [0, 86]'),\n",
              " Text(14.096842105263159, 49.418181818181836, 'X[10] <= 8.5\\ngini = 0.198\\nsamples = 9\\nvalue = [1, 8]'),\n",
              " Text(10.57263157894737, 29.650909090909096, 'gini = 0.0\\nsamples = 1\\nvalue = [1, 0]'),\n",
              " Text(17.621052631578948, 29.650909090909096, 'gini = 0.0\\nsamples = 8\\nvalue = [0, 8]'),\n",
              " Text(31.71789473684211, 88.95272727272729, 'X[9] <= 2575.0\\ngini = 0.072\\nsamples = 133\\nvalue = [5, 128]'),\n",
              " Text(24.669473684210526, 69.18545454545455, 'X[10] <= 247.0\\ngini = 0.045\\nsamples = 130\\nvalue = [3, 127]'),\n",
              " Text(21.14526315789474, 49.418181818181836, 'gini = 0.0\\nsamples = 114\\nvalue = [0, 114]'),\n",
              " Text(28.193684210526317, 49.418181818181836, 'X[9] <= 2350.0\\ngini = 0.305\\nsamples = 16\\nvalue = [3, 13]'),\n",
              " Text(24.669473684210526, 29.650909090909096, 'gini = 0.0\\nsamples = 13\\nvalue = [0, 13]'),\n",
              " Text(31.71789473684211, 29.650909090909096, 'gini = 0.0\\nsamples = 3\\nvalue = [3, 0]'),\n",
              " Text(38.76631578947369, 69.18545454545455, 'X[9] <= 2611.0\\ngini = 0.444\\nsamples = 3\\nvalue = [2, 1]'),\n",
              " Text(35.242105263157896, 49.418181818181836, 'gini = 0.0\\nsamples = 2\\nvalue = [2, 0]'),\n",
              " Text(42.29052631578948, 49.418181818181836, 'gini = 0.0\\nsamples = 1\\nvalue = [0, 1]'),\n",
              " Text(52.863157894736844, 108.72, 'X[8] <= 677.0\\ngini = 0.294\\nsamples = 67\\nvalue = [12, 55]'),\n",
              " Text(49.33894736842105, 88.95272727272729, 'gini = 0.0\\nsamples = 50\\nvalue = [0, 50]'),\n",
              " Text(56.387368421052635, 88.95272727272729, 'X[10] <= 171.0\\ngini = 0.415\\nsamples = 17\\nvalue = [12, 5]'),\n",
              " Text(52.863157894736844, 69.18545454545455, 'X[5] <= 19.5\\ngini = 0.408\\nsamples = 7\\nvalue = [2, 5]'),\n",
              " Text(49.33894736842105, 49.418181818181836, 'gini = 0.0\\nsamples = 4\\nvalue = [0, 4]'),\n",
              " Text(56.387368421052635, 49.418181818181836, 'X[9] <= 2703.5\\ngini = 0.444\\nsamples = 3\\nvalue = [2, 1]'),\n",
              " Text(52.863157894736844, 29.650909090909096, 'gini = 0.0\\nsamples = 2\\nvalue = [2, 0]'),\n",
              " Text(59.911578947368426, 29.650909090909096, 'gini = 0.0\\nsamples = 1\\nvalue = [0, 1]'),\n",
              " Text(59.911578947368426, 69.18545454545455, 'gini = 0.0\\nsamples = 10\\nvalue = [10, 0]'),\n",
              " Text(63.43578947368422, 128.48727272727274, 'X[11] <= 15.0\\ngini = 0.219\\nsamples = 8\\nvalue = [7, 1]'),\n",
              " Text(59.911578947368426, 108.72, 'gini = 0.0\\nsamples = 1\\nvalue = [0, 1]'),\n",
              " Text(66.96000000000001, 108.72, 'gini = 0.0\\nsamples = 7\\nvalue = [7, 0]'),\n",
              " Text(84.58105263157896, 148.25454545454545, 'X[11] <= 31.5\\ngini = 0.399\\nsamples = 91\\nvalue = [25, 66]'),\n",
              " Text(77.53263157894737, 128.48727272727274, 'X[9] <= 2270.0\\ngini = 0.061\\nsamples = 63\\nvalue = [2, 61]'),\n",
              " Text(74.00842105263159, 108.72, 'gini = 0.0\\nsamples = 51\\nvalue = [0, 51]'),\n",
              " Text(81.05684210526316, 108.72, 'X[10] <= 158.5\\ngini = 0.278\\nsamples = 12\\nvalue = [2, 10]'),\n",
              " Text(77.53263157894737, 88.95272727272729, 'gini = 0.0\\nsamples = 9\\nvalue = [0, 9]'),\n",
              " Text(84.58105263157896, 88.95272727272729, 'X[8] <= 961.0\\ngini = 0.444\\nsamples = 3\\nvalue = [2, 1]'),\n",
              " Text(81.05684210526316, 69.18545454545455, 'gini = 0.0\\nsamples = 1\\nvalue = [0, 1]'),\n",
              " Text(88.10526315789474, 69.18545454545455, 'gini = 0.0\\nsamples = 2\\nvalue = [2, 0]'),\n",
              " Text(91.62947368421054, 128.48727272727274, 'X[10] <= 27.5\\ngini = 0.293\\nsamples = 28\\nvalue = [23, 5]'),\n",
              " Text(88.10526315789474, 108.72, 'gini = 0.0\\nsamples = 5\\nvalue = [0, 5]'),\n",
              " Text(95.15368421052632, 108.72, 'gini = 0.0\\nsamples = 23\\nvalue = [23, 0]'),\n",
              " Text(148.45736842105265, 168.0218181818182, 'X[9] <= 1938.5\\ngini = 0.468\\nsamples = 367\\nvalue = [230, 137]'),\n",
              " Text(127.75263157894737, 148.25454545454545, 'X[10] <= 439.5\\ngini = 0.348\\nsamples = 134\\nvalue = [30, 104]'),\n",
              " Text(124.22842105263159, 128.48727272727274, 'X[8] <= 1975.0\\ngini = 0.185\\nsamples = 116\\nvalue = [12, 104]'),\n",
              " Text(111.01263157894738, 108.72, 'X[1] <= 158.0\\ngini = 0.073\\nsamples = 105\\nvalue = [4, 101]'),\n",
              " Text(102.2021052631579, 88.95272727272729, 'X[10] <= 363.5\\ngini = 0.039\\nsamples = 100\\nvalue = [2, 98]'),\n",
              " Text(95.15368421052632, 69.18545454545455, 'X[8] <= 1592.5\\ngini = 0.021\\nsamples = 95\\nvalue = [1, 94]'),\n",
              " Text(91.62947368421054, 49.418181818181836, 'gini = 0.0\\nsamples = 79\\nvalue = [0, 79]'),\n",
              " Text(98.6778947368421, 49.418181818181836, 'X[8] <= 1608.0\\ngini = 0.117\\nsamples = 16\\nvalue = [1, 15]'),\n",
              " Text(95.15368421052632, 29.650909090909096, 'X[9] <= 1845.0\\ngini = 0.5\\nsamples = 2\\nvalue = [1, 1]'),\n",
              " Text(91.62947368421054, 9.883636363636384, 'gini = 0.0\\nsamples = 1\\nvalue = [1, 0]'),\n",
              " Text(98.6778947368421, 9.883636363636384, 'gini = 0.0\\nsamples = 1\\nvalue = [0, 1]'),\n",
              " Text(102.2021052631579, 29.650909090909096, 'gini = 0.0\\nsamples = 14\\nvalue = [0, 14]'),\n",
              " Text(109.25052631578949, 69.18545454545455, 'X[10] <= 380.0\\ngini = 0.32\\nsamples = 5\\nvalue = [1, 4]'),\n",
              " Text(105.72631578947369, 49.418181818181836, 'gini = 0.0\\nsamples = 1\\nvalue = [1, 0]'),\n",
              " Text(112.77473684210527, 49.418181818181836, 'gini = 0.0\\nsamples = 4\\nvalue = [0, 4]'),\n",
              " Text(119.82315789473685, 88.95272727272729, 'X[1] <= 169.0\\ngini = 0.48\\nsamples = 5\\nvalue = [2, 3]'),\n",
              " Text(116.29894736842105, 69.18545454545455, 'gini = 0.0\\nsamples = 2\\nvalue = [2, 0]'),\n",
              " Text(123.34736842105264, 69.18545454545455, 'gini = 0.0\\nsamples = 3\\nvalue = [0, 3]'),\n",
              " Text(137.4442105263158, 108.72, 'X[11] <= 17.0\\ngini = 0.397\\nsamples = 11\\nvalue = [8, 3]'),\n",
              " Text(133.92000000000002, 88.95272727272729, 'X[4] <= 2.5\\ngini = 0.375\\nsamples = 4\\nvalue = [1, 3]'),\n",
              " Text(130.39578947368423, 69.18545454545455, 'gini = 0.0\\nsamples = 3\\nvalue = [0, 3]'),\n",
              " Text(137.4442105263158, 69.18545454545455, 'gini = 0.0\\nsamples = 1\\nvalue = [1, 0]'),\n",
              " Text(140.96842105263158, 88.95272727272729, 'gini = 0.0\\nsamples = 7\\nvalue = [7, 0]'),\n",
              " Text(131.27684210526317, 128.48727272727274, 'gini = 0.0\\nsamples = 18\\nvalue = [18, 0]'),\n",
              " Text(169.1621052631579, 148.25454545454545, 'X[10] <= 111.5\\ngini = 0.243\\nsamples = 233\\nvalue = [200, 33]'),\n",
              " Text(155.06526315789475, 128.48727272727274, 'X[11] <= 30.5\\ngini = 0.499\\nsamples = 40\\nvalue = [19, 21]'),\n",
              " Text(151.54105263157896, 108.72, 'X[8] <= 1350.0\\ngini = 0.4\\nsamples = 29\\nvalue = [8, 21]'),\n",
              " Text(148.01684210526318, 88.95272727272729, 'gini = 0.0\\nsamples = 19\\nvalue = [0, 19]'),\n",
              " Text(155.06526315789475, 88.95272727272729, 'X[1] <= 168.0\\ngini = 0.32\\nsamples = 10\\nvalue = [8, 2]'),\n",
              " Text(151.54105263157896, 69.18545454545455, 'X[8] <= 1452.5\\ngini = 0.198\\nsamples = 9\\nvalue = [8, 1]'),\n",
              " Text(148.01684210526318, 49.418181818181836, 'X[5] <= 25.0\\ngini = 0.5\\nsamples = 2\\nvalue = [1, 1]'),\n",
              " Text(144.49263157894737, 29.650909090909096, 'gini = 0.0\\nsamples = 1\\nvalue = [1, 0]'),\n",
              " Text(151.54105263157896, 29.650909090909096, 'gini = 0.0\\nsamples = 1\\nvalue = [0, 1]'),\n",
              " Text(155.06526315789475, 49.418181818181836, 'gini = 0.0\\nsamples = 7\\nvalue = [7, 0]'),\n",
              " Text(158.58947368421053, 69.18545454545455, 'gini = 0.0\\nsamples = 1\\nvalue = [0, 1]'),\n",
              " Text(158.58947368421053, 108.72, 'gini = 0.0\\nsamples = 11\\nvalue = [11, 0]'),\n",
              " Text(183.25894736842108, 128.48727272727274, 'X[9] <= 2122.0\\ngini = 0.117\\nsamples = 193\\nvalue = [181, 12]'),\n",
              " Text(172.6863157894737, 108.72, 'X[8] <= 1332.0\\ngini = 0.351\\nsamples = 44\\nvalue = [34, 10]'),\n",
              " Text(169.1621052631579, 88.95272727272729, 'X[8] <= 1292.0\\ngini = 0.355\\nsamples = 13\\nvalue = [3, 10]'),\n",
              " Text(165.63789473684213, 69.18545454545455, 'gini = 0.0\\nsamples = 7\\nvalue = [0, 7]'),\n",
              " Text(172.6863157894737, 69.18545454545455, 'X[2] <= 2.5\\ngini = 0.5\\nsamples = 6\\nvalue = [3, 3]'),\n",
              " Text(169.1621052631579, 49.418181818181836, 'gini = 0.0\\nsamples = 2\\nvalue = [0, 2]'),\n",
              " Text(176.21052631578948, 49.418181818181836, 'X[6] <= 0.5\\ngini = 0.375\\nsamples = 4\\nvalue = [3, 1]'),\n",
              " Text(172.6863157894737, 29.650909090909096, 'gini = 0.0\\nsamples = 3\\nvalue = [3, 0]'),\n",
              " Text(179.73473684210526, 29.650909090909096, 'gini = 0.0\\nsamples = 1\\nvalue = [0, 1]'),\n",
              " Text(176.21052631578948, 88.95272727272729, 'gini = 0.0\\nsamples = 31\\nvalue = [31, 0]'),\n",
              " Text(193.83157894736843, 108.72, 'X[9] <= 2205.0\\ngini = 0.026\\nsamples = 149\\nvalue = [147, 2]'),\n",
              " Text(190.30736842105264, 88.95272727272729, 'X[10] <= 204.5\\ngini = 0.188\\nsamples = 19\\nvalue = [17, 2]'),\n",
              " Text(186.78315789473686, 69.18545454545455, 'X[4] <= 2.0\\ngini = 0.444\\nsamples = 3\\nvalue = [1, 2]'),\n",
              " Text(183.25894736842108, 49.418181818181836, 'gini = 0.0\\nsamples = 2\\nvalue = [0, 2]'),\n",
              " Text(190.30736842105264, 49.418181818181836, 'gini = 0.0\\nsamples = 1\\nvalue = [1, 0]'),\n",
              " Text(193.83157894736843, 69.18545454545455, 'gini = 0.0\\nsamples = 16\\nvalue = [16, 0]'),\n",
              " Text(197.3557894736842, 88.95272727272729, 'gini = 0.0\\nsamples = 130\\nvalue = [130, 0]'),\n",
              " Text(288.5447368421053, 187.7890909090909, 'X[9] <= 3275.0\\ngini = 0.107\\nsamples = 3531\\nvalue = [3330, 201]'),\n",
              " Text(256.3863157894737, 168.0218181818182, 'X[8] <= 510.5\\ngini = 0.437\\nsamples = 583\\nvalue = [395, 188]'),\n",
              " Text(229.07368421052632, 148.25454545454545, 'X[8] <= 337.5\\ngini = 0.268\\nsamples = 207\\nvalue = [33, 174]'),\n",
              " Text(214.97684210526316, 128.48727272727274, 'X[10] <= 510.0\\ngini = 0.108\\nsamples = 139\\nvalue = [8, 131]'),\n",
              " Text(207.9284210526316, 108.72, 'X[9] <= 3190.0\\ngini = 0.058\\nsamples = 134\\nvalue = [4, 130]'),\n",
              " Text(204.4042105263158, 88.95272727272729, 'gini = 0.0\\nsamples = 105\\nvalue = [0, 105]'),\n",
              " Text(211.45263157894738, 88.95272727272729, 'X[10] <= 279.5\\ngini = 0.238\\nsamples = 29\\nvalue = [4, 25]'),\n",
              " Text(207.9284210526316, 69.18545454545455, 'X[8] <= 125.0\\ngini = 0.074\\nsamples = 26\\nvalue = [1, 25]'),\n",
              " Text(204.4042105263158, 49.418181818181836, 'gini = 0.0\\nsamples = 23\\nvalue = [0, 23]'),\n",
              " Text(211.45263157894738, 49.418181818181836, 'X[4] <= 0.5\\ngini = 0.444\\nsamples = 3\\nvalue = [1, 2]'),\n",
              " Text(207.9284210526316, 29.650909090909096, 'gini = 0.0\\nsamples = 1\\nvalue = [1, 0]'),\n",
              " Text(214.97684210526316, 29.650909090909096, 'gini = 0.0\\nsamples = 2\\nvalue = [0, 2]'),\n",
              " Text(214.97684210526316, 69.18545454545455, 'gini = 0.0\\nsamples = 3\\nvalue = [3, 0]'),\n",
              " Text(222.02526315789476, 108.72, 'X[2] <= 2.5\\ngini = 0.32\\nsamples = 5\\nvalue = [4, 1]'),\n",
              " Text(218.50105263157897, 88.95272727272729, 'gini = 0.0\\nsamples = 1\\nvalue = [0, 1]'),\n",
              " Text(225.54947368421054, 88.95272727272729, 'gini = 0.0\\nsamples = 4\\nvalue = [4, 0]'),\n",
              " Text(243.1705263157895, 128.48727272727274, 'X[9] <= 2955.0\\ngini = 0.465\\nsamples = 68\\nvalue = [25, 43]'),\n",
              " Text(236.12210526315792, 108.72, 'X[10] <= 227.5\\ngini = 0.053\\nsamples = 37\\nvalue = [1, 36]'),\n",
              " Text(232.5978947368421, 88.95272727272729, 'gini = 0.0\\nsamples = 36\\nvalue = [0, 36]'),\n",
              " Text(239.6463157894737, 88.95272727272729, 'gini = 0.0\\nsamples = 1\\nvalue = [1, 0]'),\n",
              " Text(250.21894736842106, 108.72, 'X[9] <= 3104.0\\ngini = 0.35\\nsamples = 31\\nvalue = [24, 7]'),\n",
              " Text(246.69473684210527, 88.95272727272729, 'X[10] <= 47.5\\ngini = 0.492\\nsamples = 16\\nvalue = [9, 7]'),\n",
              " Text(243.1705263157895, 69.18545454545455, 'gini = 0.0\\nsamples = 4\\nvalue = [0, 4]'),\n",
              " Text(250.21894736842106, 69.18545454545455, 'X[8] <= 395.5\\ngini = 0.375\\nsamples = 12\\nvalue = [9, 3]'),\n",
              " Text(246.69473684210527, 49.418181818181836, 'X[4] <= 1.5\\ngini = 0.48\\nsamples = 5\\nvalue = [2, 3]'),\n",
              " Text(243.1705263157895, 29.650909090909096, 'gini = 0.0\\nsamples = 3\\nvalue = [0, 3]'),\n",
              " Text(250.21894736842106, 29.650909090909096, 'gini = 0.0\\nsamples = 2\\nvalue = [2, 0]'),\n",
              " Text(253.74315789473687, 49.418181818181836, 'gini = 0.0\\nsamples = 7\\nvalue = [7, 0]'),\n",
              " Text(253.74315789473687, 88.95272727272729, 'gini = 0.0\\nsamples = 15\\nvalue = [15, 0]'),\n",
              " Text(283.69894736842105, 148.25454545454545, 'X[8] <= 648.0\\ngini = 0.072\\nsamples = 376\\nvalue = [362, 14]'),\n",
              " Text(271.3642105263158, 128.48727272727274, 'X[10] <= 46.0\\ngini = 0.416\\nsamples = 44\\nvalue = [31, 13]'),\n",
              " Text(264.3157894736842, 108.72, 'X[11] <= 38.5\\ngini = 0.26\\nsamples = 13\\nvalue = [2, 11]'),\n",
              " Text(260.79157894736846, 88.95272727272729, 'gini = 0.0\\nsamples = 11\\nvalue = [0, 11]'),\n",
              " Text(267.84000000000003, 88.95272727272729, 'gini = 0.0\\nsamples = 2\\nvalue = [2, 0]'),\n",
              " Text(278.4126315789474, 108.72, 'X[11] <= 35.5\\ngini = 0.121\\nsamples = 31\\nvalue = [29, 2]'),\n",
              " Text(274.8884210526316, 88.95272727272729, 'gini = 0.0\\nsamples = 1\\nvalue = [0, 1]'),\n",
              " Text(281.93684210526317, 88.95272727272729, 'X[11] <= 36.5\\ngini = 0.064\\nsamples = 30\\nvalue = [29, 1]'),\n",
              " Text(278.4126315789474, 69.18545454545455, 'X[3] <= 1.5\\ngini = 0.375\\nsamples = 4\\nvalue = [3, 1]'),\n",
              " Text(274.8884210526316, 49.418181818181836, 'gini = 0.0\\nsamples = 1\\nvalue = [0, 1]'),\n",
              " Text(281.93684210526317, 49.418181818181836, 'gini = 0.0\\nsamples = 3\\nvalue = [3, 0]'),\n",
              " Text(285.461052631579, 69.18545454545455, 'gini = 0.0\\nsamples = 26\\nvalue = [26, 0]'),\n",
              " Text(296.03368421052636, 128.48727272727274, 'X[8] <= 682.0\\ngini = 0.006\\nsamples = 332\\nvalue = [331, 1]'),\n",
              " Text(292.50947368421055, 108.72, 'X[8] <= 677.0\\ngini = 0.198\\nsamples = 9\\nvalue = [8, 1]'),\n",
              " Text(288.98526315789474, 88.95272727272729, 'gini = 0.0\\nsamples = 8\\nvalue = [8, 0]'),\n",
              " Text(296.03368421052636, 88.95272727272729, 'gini = 0.0\\nsamples = 1\\nvalue = [0, 1]'),\n",
              " Text(299.5578947368421, 108.72, 'gini = 0.0\\nsamples = 323\\nvalue = [323, 0]'),\n",
              " Text(320.7031578947369, 168.0218181818182, 'X[9] <= 3305.0\\ngini = 0.009\\nsamples = 2948\\nvalue = [2935, 13]'),\n",
              " Text(313.6547368421053, 148.25454545454545, 'X[8] <= 154.0\\ngini = 0.18\\nsamples = 80\\nvalue = [72, 8]'),\n",
              " Text(310.1305263157895, 128.48727272727274, 'X[10] <= 230.5\\ngini = 0.498\\nsamples = 15\\nvalue = [7, 8]'),\n",
              " Text(306.6063157894737, 108.72, 'gini = 0.0\\nsamples = 8\\nvalue = [0, 8]'),\n",
              " Text(313.6547368421053, 108.72, 'gini = 0.0\\nsamples = 7\\nvalue = [7, 0]'),\n",
              " Text(317.17894736842106, 128.48727272727274, 'gini = 0.0\\nsamples = 65\\nvalue = [65, 0]'),\n",
              " Text(327.75157894736844, 148.25454545454545, 'X[9] <= 3503.5\\ngini = 0.003\\nsamples = 2868\\nvalue = [2863, 5]'),\n",
              " Text(324.22736842105263, 128.48727272727274, 'X[11] <= 62.0\\ngini = 0.043\\nsamples = 225\\nvalue = [220, 5]'),\n",
              " Text(320.7031578947369, 108.72, 'X[10] <= 28.0\\ngini = 0.035\\nsamples = 224\\nvalue = [220, 4]'),\n",
              " Text(317.17894736842106, 88.95272727272729, 'X[8] <= 100.0\\ngini = 0.231\\nsamples = 30\\nvalue = [26, 4]'),\n",
              " Text(313.6547368421053, 69.18545454545455, 'gini = 0.0\\nsamples = 4\\nvalue = [0, 4]'),\n",
              " Text(320.7031578947369, 69.18545454545455, 'gini = 0.0\\nsamples = 26\\nvalue = [26, 0]'),\n",
              " Text(324.22736842105263, 88.95272727272729, 'gini = 0.0\\nsamples = 194\\nvalue = [194, 0]'),\n",
              " Text(327.75157894736844, 108.72, 'gini = 0.0\\nsamples = 1\\nvalue = [0, 1]'),\n",
              " Text(331.27578947368426, 128.48727272727274, 'gini = 0.0\\nsamples = 2643\\nvalue = [2643, 0]')]"
            ]
          },
          "metadata": {
            "tags": []
          },
          "execution_count": 491
        },
        {
          "output_type": "display_data",
          "data": {
            "image/png": "[encoded data removed]",
            "text/plain": [
              "<Figure size 432x288 with 1 Axes>"
            ]
          },
          "metadata": {
            "tags": [],
            "needs_background": "light"
          }
        }
      ]
    },
    {
      "cell_type": "code",
      "metadata": {
        "id": "a_qLflWjmblD",
        "colab_type": "code",
        "colab": {}
      },
      "source": [
        "# logistic regression\n",
        "\n",
        "log_reg=LogisticRegression()"
      ],
      "execution_count": 0,
      "outputs": []
    },
    {
      "cell_type": "code",
      "metadata": {
        "id": "tU_77zlgz-Ki",
        "colab_type": "code",
        "outputId": "13fb1971-f4ca-45a1-cac1-c731907fdb05",
        "colab": {
          "base_uri": "https://localhost:8080/",
          "height": 238
        }
      },
      "source": [
        "log_reg.fit(X_class_train, y_class_train)"
      ],
      "execution_count": 596,
      "outputs": [
        {
          "output_type": "stream",
          "text": [
            "/usr/local/lib/python3.6/dist-packages/sklearn/linear_model/_logistic.py:940: ConvergenceWarning: lbfgs failed to converge (status=1):\n",
            "STOP: TOTAL NO. of ITERATIONS REACHED LIMIT.\n",
            "\n",
            "Increase the number of iterations (max_iter) or scale the data as shown in:\n",
            "    https://scikit-learn.org/stable/modules/preprocessing.html\n",
            "Please also refer to the documentation for alternative solver options:\n",
            "    https://scikit-learn.org/stable/modules/linear_model.html#logistic-regression\n",
            "  extra_warning_msg=_LOGISTIC_SOLVER_CONVERGENCE_MSG)\n"
          ],
          "name": "stderr"
        },
        {
          "output_type": "execute_result",
          "data": {
            "text/plain": [
              "LogisticRegression(C=1.0, class_weight=None, dual=False, fit_intercept=True,\n",
              "                   intercept_scaling=1, l1_ratio=None, max_iter=100,\n",
              "                   multi_class='auto', n_jobs=None, penalty='l2',\n",
              "                   random_state=None, solver='lbfgs', tol=0.0001, verbose=0,\n",
              "                   warm_start=False)"
            ]
          },
          "metadata": {
            "tags": []
          },
          "execution_count": 596
        }
      ]
    },
    {
      "cell_type": "code",
      "metadata": {
        "id": "e92Ti9IS0wsL",
        "colab_type": "code",
        "colab": {}
      },
      "source": [
        "log_reg_predictions=log_reg.predict(X_array_class)"
      ],
      "execution_count": 0,
      "outputs": []
    },
    {
      "cell_type": "code",
      "metadata": {
        "id": "jp6lp9jL1Cf1",
        "colab_type": "code",
        "outputId": "bd1c2607-4369-4fd1-fe75-cadb9cd6f566",
        "colab": {
          "base_uri": "https://localhost:8080/",
          "height": 54
        }
      },
      "source": [
        "classification_report(y_array_class, log_reg_predictions)"
      ],
      "execution_count": 598,
      "outputs": [
        {
          "output_type": "execute_result",
          "data": {
            "text/plain": [
              "'              precision    recall  f1-score   support\\n\\n           0       0.89      0.91      0.90      5347\\n           1       0.91      0.88      0.90      5345\\n\\n    accuracy                           0.90     10692\\n   macro avg       0.90      0.90      0.90     10692\\nweighted avg       0.90      0.90      0.90     10692\\n'"
            ]
          },
          "metadata": {
            "tags": []
          },
          "execution_count": 598
        }
      ]
    },
    {
      "cell_type": "code",
      "metadata": {
        "id": "P4Wu417j2B2t",
        "colab_type": "code",
        "outputId": "c14f2e68-9082-433a-b0b6-444335d35da1",
        "colab": {
          "base_uri": "https://localhost:8080/",
          "height": 51
        }
      },
      "source": [
        "confusion_matrix(y_array_class, log_reg_predictions)"
      ],
      "execution_count": 599,
      "outputs": [
        {
          "output_type": "execute_result",
          "data": {
            "text/plain": [
              "array([[4874,  473],\n",
              "       [ 626, 4719]])"
            ]
          },
          "metadata": {
            "tags": []
          },
          "execution_count": 599
        }
      ]
    },
    {
      "cell_type": "code",
      "metadata": {
        "id": "Z0VkjsK_X38P",
        "colab_type": "code",
        "colab": {
          "base_uri": "https://localhost:8080/",
          "height": 34
        },
        "outputId": "2c3a174d-c775-4177-c534-7a271ca1f650"
      },
      "source": [
        "print((4874+4719)/(4874+473+626+4719)*100) #89% "
      ],
      "execution_count": 605,
      "outputs": [
        {
          "output_type": "stream",
          "text": [
            "89.72128694350917\n"
          ],
          "name": "stdout"
        }
      ]
    },
    {
      "cell_type": "code",
      "metadata": {
        "id": "bi7jpfEQ2U-m",
        "colab_type": "code",
        "outputId": "b5e56734-453e-4791-e6af-b17321613223",
        "colab": {
          "base_uri": "https://localhost:8080/",
          "height": 34
        }
      },
      "source": [
        "# accuracy\n",
        "\n",
        "accuracy_score(y_array_class, log_reg_predictions) #0.89"
      ],
      "execution_count": 606,
      "outputs": [
        {
          "output_type": "execute_result",
          "data": {
            "text/plain": [
              "0.8972128694350917"
            ]
          },
          "metadata": {
            "tags": []
          },
          "execution_count": 606
        }
      ]
    },
    {
      "cell_type": "code",
      "metadata": {
        "id": "qJpKK8AlwaK8",
        "colab_type": "code",
        "colab": {}
      },
      "source": [
        "# linear regression \n",
        "\n",
        "X_reg_train.reshape(-1,1)\n",
        "X_reg_train, y_reg_train, X_reg_test, y_reg_test = train_test_split (X_array_reg, y_array_reg, test_size =0.33, random_state=42)"
      ],
      "execution_count": 0,
      "outputs": []
    },
    {
      "cell_type": "code",
      "metadata": {
        "id": "IGZrzeOC57K6",
        "colab_type": "code",
        "colab": {}
      },
      "source": [
        "reg=LinearRegression()"
      ],
      "execution_count": 0,
      "outputs": []
    },
    {
      "cell_type": "code",
      "metadata": {
        "id": "SVhs3OD96w35",
        "colab_type": "code",
        "colab": {}
      },
      "source": [
        "# train \n",
        "\n",
        "#X_reg_train.reshape(-1,1)\n",
        "\n",
        "reg.fit(X_reg_train, y_reg_train) # 1D array features"
      ],
      "execution_count": 0,
      "outputs": []
    },
    {
      "cell_type": "code",
      "metadata": {
        "id": "vw9C7w6U7EX8",
        "colab_type": "code",
        "colab": {}
      },
      "source": [
        "reg_predictions=reg.predict(X_reg_test)"
      ],
      "execution_count": 0,
      "outputs": []
    },
    {
      "cell_type": "code",
      "metadata": {
        "id": "boQo2twR7i7Q",
        "colab_type": "code",
        "colab": {}
      },
      "source": [
        "mean_squared_error(y_reg_test, reg_predictions)"
      ],
      "execution_count": 0,
      "outputs": []
    },
    {
      "cell_type": "code",
      "metadata": {
        "id": "WeWpBYyX-SBP",
        "colab_type": "code",
        "colab": {}
      },
      "source": [
        "# r2 metrics\n",
        "\n",
        "r2_score(y_test, reg_predictions)"
      ],
      "execution_count": 0,
      "outputs": []
    },
    {
      "cell_type": "code",
      "metadata": {
        "id": "5HaCuohOgGGK",
        "colab_type": "code",
        "colab": {}
      },
      "source": [
        "# accuracy\n",
        "\n",
        "accuracy_score(y_reg_test, reg_predictions)"
      ],
      "execution_count": 0,
      "outputs": []
    },
    {
      "cell_type": "code",
      "metadata": {
        "id": "zqcIpDyAUWjy",
        "colab_type": "code",
        "colab": {}
      },
      "source": [
        "# kNN\n",
        "\n",
        "knn = KNeighborsClassifier(n_neighbors=10)"
      ],
      "execution_count": 0,
      "outputs": []
    },
    {
      "cell_type": "code",
      "metadata": {
        "id": "GxpXhX_eaXvQ",
        "colab_type": "code",
        "outputId": "8c0eea88-42f9-43f7-f882-4b711e13263f",
        "colab": {
          "base_uri": "https://localhost:8080/",
          "height": 68
        }
      },
      "source": [
        "# train the model\n",
        "\n",
        "knn.fit(X_class_train, y_class_train)"
      ],
      "execution_count": 637,
      "outputs": [
        {
          "output_type": "execute_result",
          "data": {
            "text/plain": [
              "KNeighborsClassifier(algorithm='auto', leaf_size=30, metric='minkowski',\n",
              "                     metric_params=None, n_jobs=None, n_neighbors=10, p=2,\n",
              "                     weights='uniform')"
            ]
          },
          "metadata": {
            "tags": []
          },
          "execution_count": 637
        }
      ]
    },
    {
      "cell_type": "code",
      "metadata": {
        "id": "IGcDe6ZWVydQ",
        "colab_type": "code",
        "colab": {}
      },
      "source": [
        "# predict\n",
        "\n",
        "knn_predictions=knn.predict(X_class_test)"
      ],
      "execution_count": 0,
      "outputs": []
    },
    {
      "cell_type": "code",
      "metadata": {
        "id": "PbYMLBYA8khI",
        "colab_type": "code",
        "colab": {
          "base_uri": "https://localhost:8080/",
          "height": 34
        },
        "outputId": "9c088f97-52dd-4a61-9629-fb0f13b9e28f"
      },
      "source": [
        "# accuracy\n",
        "\n",
        "accuracy_score(y_class_test, knn_predictions) # 0.99"
      ],
      "execution_count": 639,
      "outputs": [
        {
          "output_type": "execute_result",
          "data": {
            "text/plain": [
              "0.9917823746103712"
            ]
          },
          "metadata": {
            "tags": []
          },
          "execution_count": 639
        }
      ]
    },
    {
      "cell_type": "code",
      "metadata": {
        "id": "fenGvD5O85Nd",
        "colab_type": "code",
        "colab": {}
      },
      "source": [
        "# randomforest\n",
        "\n",
        "rf = RandomForestClassifier(n_estimators=10)"
      ],
      "execution_count": 0,
      "outputs": []
    },
    {
      "cell_type": "code",
      "metadata": {
        "id": "-Oz8T_MH9VaQ",
        "colab_type": "code",
        "colab": {
          "base_uri": "https://localhost:8080/",
          "height": 71
        },
        "outputId": "4e13d829-6b82-47a0-f0b2-d8fe1fe257bb"
      },
      "source": [
        "rf = rf.fit(X_class_train, y_class_train)"
      ],
      "execution_count": 428,
      "outputs": [
        {
          "output_type": "stream",
          "text": [
            "/usr/local/lib/python3.6/dist-packages/ipykernel_launcher.py:1: DataConversionWarning: A column-vector y was passed when a 1d array was expected. Please change the shape of y to (n_samples,), for example using ravel().\n",
            "  \"\"\"Entry point for launching an IPython kernel.\n"
          ],
          "name": "stderr"
        }
      ]
    },
    {
      "cell_type": "code",
      "metadata": {
        "id": "gnB3L0fr9lai",
        "colab_type": "code",
        "colab": {}
      },
      "source": [
        "rf_predictions = rf.predict(X_class_test)"
      ],
      "execution_count": 0,
      "outputs": []
    },
    {
      "cell_type": "code",
      "metadata": {
        "id": "YMC2gRau9vux",
        "colab_type": "code",
        "colab": {
          "base_uri": "https://localhost:8080/",
          "height": 34
        },
        "outputId": "bd154931-9c95-4ce9-e7d5-45f73890f7ac"
      },
      "source": [
        "accuracy_score(y_class_test, rf_predictions) # 1.0 accuracy"
      ],
      "execution_count": 641,
      "outputs": [
        {
          "output_type": "execute_result",
          "data": {
            "text/plain": [
              "1.0"
            ]
          },
          "metadata": {
            "tags": []
          },
          "execution_count": 641
        }
      ]
    },
    {
      "cell_type": "code",
      "metadata": {
        "id": "jg5l741X-ABK",
        "colab_type": "code",
        "colab": {}
      },
      "source": [
        "# gradient boosting\n",
        "\n",
        "gb = GradientBoostingClassifier(n_estimators=50)"
      ],
      "execution_count": 0,
      "outputs": []
    },
    {
      "cell_type": "code",
      "metadata": {
        "id": "LFE_SAfS-w9Y",
        "colab_type": "code",
        "colab": {
          "base_uri": "https://localhost:8080/",
          "height": 241
        },
        "outputId": "a783ec3f-225e-4953-d16a-f8291aede15e"
      },
      "source": [
        "gb.fit(X_class_train, y_class_train)"
      ],
      "execution_count": 434,
      "outputs": [
        {
          "output_type": "stream",
          "text": [
            "/usr/local/lib/python3.6/dist-packages/sklearn/ensemble/_gb.py:1454: DataConversionWarning: A column-vector y was passed when a 1d array was expected. Please change the shape of y to (n_samples, ), for example using ravel().\n",
            "  y = column_or_1d(y, warn=True)\n"
          ],
          "name": "stderr"
        },
        {
          "output_type": "execute_result",
          "data": {
            "text/plain": [
              "GradientBoostingClassifier(ccp_alpha=0.0, criterion='friedman_mse', init=None,\n",
              "                           learning_rate=0.1, loss='deviance', max_depth=3,\n",
              "                           max_features=None, max_leaf_nodes=None,\n",
              "                           min_impurity_decrease=0.0, min_impurity_split=None,\n",
              "                           min_samples_leaf=1, min_samples_split=2,\n",
              "                           min_weight_fraction_leaf=0.0, n_estimators=50,\n",
              "                           n_iter_no_change=None, presort='deprecated',\n",
              "                           random_state=None, subsample=1.0, tol=0.0001,\n",
              "                           validation_fraction=0.1, verbose=0,\n",
              "                           warm_start=False)"
            ]
          },
          "metadata": {
            "tags": []
          },
          "execution_count": 434
        }
      ]
    },
    {
      "cell_type": "code",
      "metadata": {
        "id": "V_J1XKCb-5sO",
        "colab_type": "code",
        "colab": {}
      },
      "source": [
        "gb_predictions = gb.predict(X_class_test)"
      ],
      "execution_count": 0,
      "outputs": []
    },
    {
      "cell_type": "code",
      "metadata": {
        "id": "W9r8h-Fa_D8p",
        "colab_type": "code",
        "colab": {
          "base_uri": "https://localhost:8080/",
          "height": 34
        },
        "outputId": "ab558554-efaf-456d-da24-11fd9b1c1082"
      },
      "source": [
        "accuracy_score(y_class_test, gb_predictions) # 1.0 "
      ],
      "execution_count": 436,
      "outputs": [
        {
          "output_type": "execute_result",
          "data": {
            "text/plain": [
              "1.0"
            ]
          },
          "metadata": {
            "tags": []
          },
          "execution_count": 436
        }
      ]
    },
    {
      "cell_type": "code",
      "metadata": {
        "id": "h4wnLCE0_PLj",
        "colab_type": "code",
        "colab": {}
      },
      "source": [
        "#CONCLUSION\n",
        "\n",
        "#Excluding linear regression, the results of accuracy are:\n",
        "\n",
        "# decision tree - 0.99\n",
        "# logistic regression - 0.89\n",
        "# kNN - 0.99\n",
        "# random forest - 1.0\n",
        "\n",
        "# So the most accurate is random forest basing on our results\n"
      ],
      "execution_count": 0,
      "outputs": []
    }
  ]
}
