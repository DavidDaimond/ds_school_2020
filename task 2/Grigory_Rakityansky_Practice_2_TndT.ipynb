{
 "cells": [
  {
   "cell_type": "code",
   "execution_count": 2,
   "metadata": {},
   "outputs": [],
   "source": [
    "import pandas as pd\n",
    "import numpy as np\n",
    "from sklearn.model_selection import train_test_split,GridSearchCV\n",
    "from sklearn.tree import DecisionTreeClassifier\n",
    "from sklearn.neighbors import KNeighborsClassifier\n",
    "from sklearn.linear_model import LogisticRegression,LinearRegression\n",
    "from sklearn.ensemble import RandomForestClassifier, GradientBoostingClassifier\n",
    "from sklearn.metrics import accuracy_score\n",
    "import matplotlib.pyplot as plt\n",
    "%matplotlib inline"
   ]
  },
  {
   "cell_type": "code",
   "execution_count": 3,
   "metadata": {},
   "outputs": [],
   "source": [
    "data = pd.read_csv('winequality-red.csv')"
   ]
  },
  {
   "cell_type": "markdown",
   "metadata": {},
   "source": [
    "# Data preparation"
   ]
  },
  {
   "cell_type": "code",
   "execution_count": 4,
   "metadata": {},
   "outputs": [],
   "source": [
    "Var = data.drop(['quality'], axis=1)\n",
    "Target = data['quality']\n",
    "Var_train, Var_test, Target_train, Target_test = train_test_split(Var,Target,\n",
    "                                                                  test_size=.3,\n",
    "                                                                  random_state=1)"
   ]
  },
  {
   "cell_type": "code",
   "execution_count": 5,
   "metadata": {},
   "outputs": [],
   "source": [
    "accuracy = {}\n",
    "def add_stat(name, algrthm):\n",
    "    accuracy[name] = accuracy_score(algrthm.predict(Var_test), Target_test)\n",
    "    "
   ]
  },
  {
   "cell_type": "markdown",
   "metadata": {},
   "source": [
    "# Decision Tree"
   ]
  },
  {
   "cell_type": "code",
   "execution_count": 6,
   "metadata": {},
   "outputs": [
    {
     "name": "stdout",
     "output_type": "stream",
     "text": [
      "Wall time: 10.2 s\n"
     ]
    },
    {
     "data": {
      "text/plain": [
       "({'max_depth': 8, 'max_features': 7, 'min_samples_leaf': 4},\n",
       " 0.6103699551569507)"
      ]
     },
     "execution_count": 6,
     "metadata": {},
     "output_type": "execute_result"
    }
   ],
   "source": [
    "%%time\n",
    "algrthm = DecisionTreeClassifier(random_state=1)\n",
    "config = {'max_depth': np.arange(6, 10),\n",
    "          'min_samples_leaf' : np.arange(1, 5),\n",
    "          'max_features' : np.arange(3, 8)}\n",
    "grid_sch = GridSearchCV(algrthm,config,cv=5,n_jobs=-1)\n",
    "grid_sch.fit(Var_train,Target_train)\n",
    "\n",
    "grid_sch.best_params_, grid_sch.best_score_"
   ]
  },
  {
   "cell_type": "code",
   "execution_count": 7,
   "metadata": {},
   "outputs": [
    {
     "name": "stdout",
     "output_type": "stream",
     "text": [
      "Wall time: 6 ms\n"
     ]
    },
    {
     "data": {
      "text/plain": [
       "0.575"
      ]
     },
     "execution_count": 7,
     "metadata": {},
     "output_type": "execute_result"
    }
   ],
   "source": [
    "%%time\n",
    "dctree = DecisionTreeClassifier(max_depth=8,max_features=7,min_samples_leaf=4)\n",
    "dctree.fit(Var_train,Target_train)\n",
    "add_stat(\"Decision Tree\", dctree)\n",
    "accuracy_score(dctree.predict(Var_test), Target_test)\n"
   ]
  },
  {
   "cell_type": "code",
   "execution_count": null,
   "metadata": {},
   "outputs": [],
   "source": []
  },
  {
   "cell_type": "markdown",
   "metadata": {},
   "source": [
    "# kNN"
   ]
  },
  {
   "cell_type": "code",
   "execution_count": 8,
   "metadata": {},
   "outputs": [
    {
     "name": "stdout",
     "output_type": "stream",
     "text": [
      "Wall time: 508 ms\n"
     ]
    },
    {
     "data": {
      "text/plain": [
       "({'n_neighbors': 20}, 0.529936739269699)"
      ]
     },
     "execution_count": 8,
     "metadata": {},
     "output_type": "execute_result"
    }
   ],
   "source": [
    "%%time\n",
    "algrthm = KNeighborsClassifier(n_jobs=-1)\n",
    "config = {'n_neighbors': np.arange(15,25)}\n",
    "grid_sch = GridSearchCV(algrthm,config,cv=5,n_jobs=-1)\n",
    "grid_sch.fit(Var_train,Target_train)\n",
    "\n",
    "grid_sch.best_params_, grid_sch.best_score_"
   ]
  },
  {
   "cell_type": "code",
   "execution_count": 9,
   "metadata": {},
   "outputs": [
    {
     "name": "stdout",
     "output_type": "stream",
     "text": [
      "Wall time: 246 ms\n"
     ]
    },
    {
     "data": {
      "text/plain": [
       "0.5041666666666667"
      ]
     },
     "execution_count": 9,
     "metadata": {},
     "output_type": "execute_result"
    }
   ],
   "source": [
    "%%time\n",
    "kNNghbrs = KNeighborsClassifier(n_jobs=-1,n_neighbors=20)\n",
    "kNNghbrs.fit(Var_train,Target_train)\n",
    "add_stat(\"kNN\", kNNghbrs)\n",
    "accuracy_score(kNNghbrs.predict(Var_test), Target_test)"
   ]
  },
  {
   "cell_type": "code",
   "execution_count": null,
   "metadata": {},
   "outputs": [],
   "source": []
  },
  {
   "cell_type": "markdown",
   "metadata": {},
   "source": [
    "# Logistic Regression"
   ]
  },
  {
   "cell_type": "code",
   "execution_count": 10,
   "metadata": {},
   "outputs": [
    {
     "name": "stdout",
     "output_type": "stream",
     "text": [
      "Wall time: 558 ms\n"
     ]
    },
    {
     "data": {
      "text/plain": [
       "({'C': 1.0}, 0.5754964766175528)"
      ]
     },
     "execution_count": 10,
     "metadata": {},
     "output_type": "execute_result"
    }
   ],
   "source": [
    "%%time\n",
    "algrthm = LogisticRegression(random_state=1, n_jobs=-1)\n",
    "config = {'C': np.linspace(0, 1, 11)}\n",
    "grid_sch = GridSearchCV(algrthm,config,cv=5,n_jobs=-1)\n",
    "grid_sch.fit(Var_train,Target_train)\n",
    "\n",
    "grid_sch.best_params_, grid_sch.best_score_"
   ]
  },
  {
   "cell_type": "code",
   "execution_count": 11,
   "metadata": {},
   "outputs": [
    {
     "name": "stdout",
     "output_type": "stream",
     "text": [
      "Wall time: 75 ms\n"
     ]
    },
    {
     "data": {
      "text/plain": [
       "0.6"
      ]
     },
     "execution_count": 11,
     "metadata": {},
     "output_type": "execute_result"
    }
   ],
   "source": [
    "%%time\n",
    "LogRegrn = LogisticRegression(C=1,random_state=1, n_jobs=-1)\n",
    "LogRegrn.fit(Var_train,Target_train)\n",
    "add_stat(\"Logistic Regression\", LogRegrn)\n",
    "accuracy_score(LogRegrn.predict(Var_test), Target_test)"
   ]
  },
  {
   "cell_type": "code",
   "execution_count": null,
   "metadata": {},
   "outputs": [],
   "source": []
  },
  {
   "cell_type": "markdown",
   "metadata": {},
   "source": [
    "# Linear Regression"
   ]
  },
  {
   "cell_type": "code",
   "execution_count": 12,
   "metadata": {},
   "outputs": [
    {
     "name": "stdout",
     "output_type": "stream",
     "text": [
      "Wall time: 11 ms\n"
     ]
    },
    {
     "data": {
      "text/plain": [
       "0.6166666666666667"
      ]
     },
     "execution_count": 12,
     "metadata": {},
     "output_type": "execute_result"
    }
   ],
   "source": [
    "%%time\n",
    "LinRegrn = LinearRegression(n_jobs=-1)\n",
    "LinRegrn.fit(Var_train,Target_train)\n",
    "accuracy['Linear Regression'] = accuracy_score(np.around(LinRegrn.predict(Var_test)), Target_test)\n",
    "accuracy_score(np.around(LinRegrn.predict(Var_test)), Target_test) \n"
   ]
  },
  {
   "cell_type": "markdown",
   "metadata": {},
   "source": [
    "# Random Forest"
   ]
  },
  {
   "cell_type": "code",
   "execution_count": 13,
   "metadata": {},
   "outputs": [
    {
     "name": "stdout",
     "output_type": "stream",
     "text": [
      "Wall time: 1min 35s\n"
     ]
    },
    {
     "data": {
      "text/plain": [
       "({'max_depth': 15,\n",
       "  'max_features': 2,\n",
       "  'min_samples_leaf': 1,\n",
       "  'n_estimators': 17},\n",
       " 0.6764814221652786)"
      ]
     },
     "execution_count": 13,
     "metadata": {},
     "output_type": "execute_result"
    }
   ],
   "source": [
    "%%time\n",
    "algrthm = RandomForestClassifier(random_state=1, n_jobs=-1)\n",
    "config = {'max_depth': np.arange(3,20),\n",
    "          'min_samples_leaf' : np.arange(1,5),\n",
    "          'max_features' : np.arange(1, 5),\n",
    "          'n_estimators' : np.arange(15,20)}\n",
    "grid_sch = GridSearchCV(algrthm,config,cv=5,n_jobs=-1)\n",
    "grid_sch.fit(Var_train,Target_train)\n",
    "\n",
    "grid_sch.best_params_, grid_sch.best_score_"
   ]
  },
  {
   "cell_type": "code",
   "execution_count": 14,
   "metadata": {},
   "outputs": [
    {
     "name": "stdout",
     "output_type": "stream",
     "text": [
      "Wall time: 324 ms\n"
     ]
    },
    {
     "data": {
      "text/plain": [
       "0.6541666666666667"
      ]
     },
     "execution_count": 14,
     "metadata": {},
     "output_type": "execute_result"
    }
   ],
   "source": [
    "%%time\n",
    "RndmFrst = RandomForestClassifier(n_jobs=-1,\n",
    "                                  random_state=1,\n",
    "                                  max_depth=15,\n",
    "                                  max_features=2,\n",
    "                                  min_samples_leaf=1,\n",
    "                                  n_estimators=17)\n",
    "RndmFrst.fit(Var_train,Target_train)\n",
    "add_stat(\"Random Forest\", RndmFrst)\n",
    "accuracy_score(RndmFrst.predict(Var_test), Target_test)"
   ]
  },
  {
   "cell_type": "markdown",
   "metadata": {},
   "source": [
    "# Gradient Boosting"
   ]
  },
  {
   "cell_type": "code",
   "execution_count": 15,
   "metadata": {},
   "outputs": [
    {
     "name": "stdout",
     "output_type": "stream",
     "text": [
      "Wall time: 2min 58s\n"
     ]
    },
    {
     "data": {
      "text/plain": [
       "({'max_depth': 17,\n",
       "  'max_features': 4,\n",
       "  'min_samples_leaf': 3,\n",
       "  'n_estimators': 19},\n",
       " 0.6720571748878924)"
      ]
     },
     "execution_count": 15,
     "metadata": {},
     "output_type": "execute_result"
    }
   ],
   "source": [
    "%%time\n",
    "algrthm = GradientBoostingClassifier(random_state=1)\n",
    "config = {'max_depth': np.arange(15,20),\n",
    "          'min_samples_leaf' : np.arange(1,5),\n",
    "          'max_features' : np.arange(1, 5),\n",
    "          'n_estimators' : np.arange(15,20)}\n",
    "grid_sch = GridSearchCV(algrthm,config,cv=5,n_jobs=-1)\n",
    "grid_sch.fit(Var_train,Target_train)\n",
    "\n",
    "grid_sch.best_params_, grid_sch.best_score_"
   ]
  },
  {
   "cell_type": "code",
   "execution_count": 16,
   "metadata": {},
   "outputs": [
    {
     "name": "stdout",
     "output_type": "stream",
     "text": [
      "Wall time: 1.15 s\n"
     ]
    },
    {
     "data": {
      "text/plain": [
       "0.68125"
      ]
     },
     "execution_count": 16,
     "metadata": {},
     "output_type": "execute_result"
    }
   ],
   "source": [
    "%%time\n",
    "GrdBoost = GradientBoostingClassifier(random_state=1,\n",
    "                                      max_depth=17,\n",
    "                                      max_features=4,\n",
    "                                      min_samples_leaf=3,\n",
    "                                      n_estimators=19)\n",
    "GrdBoost.fit(Var_train,Target_train)\n",
    "add_stat(\"Gradient Boosting\", GrdBoost)\n",
    "accuracy_score(GrdBoost.predict(Var_test), Target_test)"
   ]
  },
  {
   "cell_type": "markdown",
   "metadata": {},
   "source": [
    "# Total"
   ]
  },
  {
   "cell_type": "code",
   "execution_count": 20,
   "metadata": {},
   "outputs": [
    {
     "data": {
      "text/html": [
       "<div>\n",
       "<style scoped>\n",
       "    .dataframe tbody tr th:only-of-type {\n",
       "        vertical-align: middle;\n",
       "    }\n",
       "\n",
       "    .dataframe tbody tr th {\n",
       "        vertical-align: top;\n",
       "    }\n",
       "\n",
       "    .dataframe thead th {\n",
       "        text-align: right;\n",
       "    }\n",
       "</style>\n",
       "<table border=\"1\" class=\"dataframe\">\n",
       "  <thead>\n",
       "    <tr style=\"text-align: right;\">\n",
       "      <th></th>\n",
       "      <th>accuracy</th>\n",
       "    </tr>\n",
       "  </thead>\n",
       "  <tbody>\n",
       "    <tr>\n",
       "      <th>Gradient Boosting</th>\n",
       "      <td>0.681250</td>\n",
       "    </tr>\n",
       "    <tr>\n",
       "      <th>Random Forest</th>\n",
       "      <td>0.654167</td>\n",
       "    </tr>\n",
       "    <tr>\n",
       "      <th>Linear Regression</th>\n",
       "      <td>0.616667</td>\n",
       "    </tr>\n",
       "    <tr>\n",
       "      <th>Logistic Regression</th>\n",
       "      <td>0.600000</td>\n",
       "    </tr>\n",
       "    <tr>\n",
       "      <th>Decision Tree</th>\n",
       "      <td>0.575000</td>\n",
       "    </tr>\n",
       "    <tr>\n",
       "      <th>kNN</th>\n",
       "      <td>0.504167</td>\n",
       "    </tr>\n",
       "  </tbody>\n",
       "</table>\n",
       "</div>"
      ],
      "text/plain": [
       "                     accuracy\n",
       "Gradient Boosting    0.681250\n",
       "Random Forest        0.654167\n",
       "Linear Regression    0.616667\n",
       "Logistic Regression  0.600000\n",
       "Decision Tree        0.575000\n",
       "kNN                  0.504167"
      ]
     },
     "execution_count": 20,
     "metadata": {},
     "output_type": "execute_result"
    }
   ],
   "source": [
    "accuracy = pd.Series(accuracy)\n",
    "total = pd.DataFrame({'accuracy': accuracy})\n",
    "total.sort_values(by='accuracy', ascending=False)"
   ]
  }
 ],
 "metadata": {
  "kernelspec": {
   "display_name": "Python 3",
   "language": "python",
   "name": "python3"
  },
  "language_info": {
   "codemirror_mode": {
    "name": "ipython",
    "version": 3
   },
   "file_extension": ".py",
   "mimetype": "text/x-python",
   "name": "python",
   "nbconvert_exporter": "python",
   "pygments_lexer": "ipython3",
   "version": "3.7.6"
  }
 },
 "nbformat": 4,
 "nbformat_minor": 4
}
